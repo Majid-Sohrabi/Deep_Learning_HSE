{
  "nbformat": 4,
  "nbformat_minor": 0,
  "metadata": {
    "colab": {
      "name": "DL_HW4_seminar_pytorch_Sohrabi.ipynb",
      "provenance": [],
      "collapsed_sections": []
    },
    "hide_input": false,
    "kernelspec": {
      "display_name": "Python 3",
      "language": "python",
      "name": "python3"
    },
    "language_info": {
      "codemirror_mode": {
        "name": "ipython",
        "version": 3
      },
      "file_extension": ".py",
      "mimetype": "text/x-python",
      "name": "python",
      "nbconvert_exporter": "python",
      "pygments_lexer": "ipython3",
      "version": "3.8.5"
    },
    "varInspector": {
      "cols": {
        "lenName": 16,
        "lenType": 16,
        "lenVar": 40
      },
      "kernels_config": {
        "python": {
          "delete_cmd_postfix": "",
          "delete_cmd_prefix": "del ",
          "library": "var_list.py",
          "varRefreshCmd": "print(var_dic_list())"
        },
        "r": {
          "delete_cmd_postfix": ") ",
          "delete_cmd_prefix": "rm(",
          "library": "var_list.r",
          "varRefreshCmd": "cat(var_dic_list()) "
        }
      },
      "types_to_exclude": [
        "module",
        "function",
        "builtin_function_or_method",
        "instance",
        "_Feature"
      ],
      "window_display": false
    },
    "accelerator": "GPU",
    "widgets": {
      "application/vnd.jupyter.widget-state+json": {
        "1cdbafd8f4a34821992f1a715bebf568": {
          "model_module": "@jupyter-widgets/controls",
          "model_name": "HBoxModel",
          "model_module_version": "1.5.0",
          "state": {
            "_view_name": "HBoxView",
            "_dom_classes": [],
            "_model_name": "HBoxModel",
            "_view_module": "@jupyter-widgets/controls",
            "_model_module_version": "1.5.0",
            "_view_count": null,
            "_view_module_version": "1.5.0",
            "box_style": "",
            "layout": "IPY_MODEL_682ed35f296b439a9a24effec4360de3",
            "_model_module": "@jupyter-widgets/controls",
            "children": [
              "IPY_MODEL_272b0f967fb249f5b1cadfd65499bba5",
              "IPY_MODEL_a83383a00f5d46289a17132f67ad6ecd",
              "IPY_MODEL_0f798390c54e46b89b3e82f57d812b2e"
            ]
          }
        },
        "682ed35f296b439a9a24effec4360de3": {
          "model_module": "@jupyter-widgets/base",
          "model_name": "LayoutModel",
          "model_module_version": "1.2.0",
          "state": {
            "_view_name": "LayoutView",
            "grid_template_rows": null,
            "right": null,
            "justify_content": null,
            "_view_module": "@jupyter-widgets/base",
            "overflow": null,
            "_model_module_version": "1.2.0",
            "_view_count": null,
            "flex_flow": null,
            "width": null,
            "min_width": null,
            "border": null,
            "align_items": null,
            "bottom": null,
            "_model_module": "@jupyter-widgets/base",
            "top": null,
            "grid_column": null,
            "overflow_y": null,
            "overflow_x": null,
            "grid_auto_flow": null,
            "grid_area": null,
            "grid_template_columns": null,
            "flex": null,
            "_model_name": "LayoutModel",
            "justify_items": null,
            "grid_row": null,
            "max_height": null,
            "align_content": null,
            "visibility": null,
            "align_self": null,
            "height": null,
            "min_height": null,
            "padding": null,
            "grid_auto_rows": null,
            "grid_gap": null,
            "max_width": null,
            "order": null,
            "_view_module_version": "1.2.0",
            "grid_template_areas": null,
            "object_position": null,
            "object_fit": null,
            "grid_auto_columns": null,
            "margin": null,
            "display": null,
            "left": null
          }
        },
        "272b0f967fb249f5b1cadfd65499bba5": {
          "model_module": "@jupyter-widgets/controls",
          "model_name": "HTMLModel",
          "model_module_version": "1.5.0",
          "state": {
            "_view_name": "HTMLView",
            "style": "IPY_MODEL_6cedcefffc574f3e86f0c0f3a3826610",
            "_dom_classes": [],
            "description": "",
            "_model_name": "HTMLModel",
            "placeholder": "​",
            "_view_module": "@jupyter-widgets/controls",
            "_model_module_version": "1.5.0",
            "value": "100%",
            "_view_count": null,
            "_view_module_version": "1.5.0",
            "description_tooltip": null,
            "_model_module": "@jupyter-widgets/controls",
            "layout": "IPY_MODEL_e96cd743595e4a52996a1729f7dcd748"
          }
        },
        "a83383a00f5d46289a17132f67ad6ecd": {
          "model_module": "@jupyter-widgets/controls",
          "model_name": "FloatProgressModel",
          "model_module_version": "1.5.0",
          "state": {
            "_view_name": "ProgressView",
            "style": "IPY_MODEL_da0428392a244909afdb66d918fd1f9c",
            "_dom_classes": [],
            "description": "",
            "_model_name": "FloatProgressModel",
            "bar_style": "success",
            "max": 46830571,
            "_view_module": "@jupyter-widgets/controls",
            "_model_module_version": "1.5.0",
            "value": 46830571,
            "_view_count": null,
            "_view_module_version": "1.5.0",
            "orientation": "horizontal",
            "min": 0,
            "description_tooltip": null,
            "_model_module": "@jupyter-widgets/controls",
            "layout": "IPY_MODEL_15985b46ea3d4c87ac788b24b274f540"
          }
        },
        "0f798390c54e46b89b3e82f57d812b2e": {
          "model_module": "@jupyter-widgets/controls",
          "model_name": "HTMLModel",
          "model_module_version": "1.5.0",
          "state": {
            "_view_name": "HTMLView",
            "style": "IPY_MODEL_0a46d886565a44bfacdf1b8d5fb26710",
            "_dom_classes": [],
            "description": "",
            "_model_name": "HTMLModel",
            "placeholder": "​",
            "_view_module": "@jupyter-widgets/controls",
            "_model_module_version": "1.5.0",
            "value": " 44.7M/44.7M [00:02&lt;00:00, 22.3MB/s]",
            "_view_count": null,
            "_view_module_version": "1.5.0",
            "description_tooltip": null,
            "_model_module": "@jupyter-widgets/controls",
            "layout": "IPY_MODEL_0d31ccd748f344dba3b3cd23328c8ca6"
          }
        },
        "6cedcefffc574f3e86f0c0f3a3826610": {
          "model_module": "@jupyter-widgets/controls",
          "model_name": "DescriptionStyleModel",
          "model_module_version": "1.5.0",
          "state": {
            "_view_name": "StyleView",
            "_model_name": "DescriptionStyleModel",
            "description_width": "",
            "_view_module": "@jupyter-widgets/base",
            "_model_module_version": "1.5.0",
            "_view_count": null,
            "_view_module_version": "1.2.0",
            "_model_module": "@jupyter-widgets/controls"
          }
        },
        "e96cd743595e4a52996a1729f7dcd748": {
          "model_module": "@jupyter-widgets/base",
          "model_name": "LayoutModel",
          "model_module_version": "1.2.0",
          "state": {
            "_view_name": "LayoutView",
            "grid_template_rows": null,
            "right": null,
            "justify_content": null,
            "_view_module": "@jupyter-widgets/base",
            "overflow": null,
            "_model_module_version": "1.2.0",
            "_view_count": null,
            "flex_flow": null,
            "width": null,
            "min_width": null,
            "border": null,
            "align_items": null,
            "bottom": null,
            "_model_module": "@jupyter-widgets/base",
            "top": null,
            "grid_column": null,
            "overflow_y": null,
            "overflow_x": null,
            "grid_auto_flow": null,
            "grid_area": null,
            "grid_template_columns": null,
            "flex": null,
            "_model_name": "LayoutModel",
            "justify_items": null,
            "grid_row": null,
            "max_height": null,
            "align_content": null,
            "visibility": null,
            "align_self": null,
            "height": null,
            "min_height": null,
            "padding": null,
            "grid_auto_rows": null,
            "grid_gap": null,
            "max_width": null,
            "order": null,
            "_view_module_version": "1.2.0",
            "grid_template_areas": null,
            "object_position": null,
            "object_fit": null,
            "grid_auto_columns": null,
            "margin": null,
            "display": null,
            "left": null
          }
        },
        "da0428392a244909afdb66d918fd1f9c": {
          "model_module": "@jupyter-widgets/controls",
          "model_name": "ProgressStyleModel",
          "model_module_version": "1.5.0",
          "state": {
            "_view_name": "StyleView",
            "_model_name": "ProgressStyleModel",
            "description_width": "",
            "_view_module": "@jupyter-widgets/base",
            "_model_module_version": "1.5.0",
            "_view_count": null,
            "_view_module_version": "1.2.0",
            "bar_color": null,
            "_model_module": "@jupyter-widgets/controls"
          }
        },
        "15985b46ea3d4c87ac788b24b274f540": {
          "model_module": "@jupyter-widgets/base",
          "model_name": "LayoutModel",
          "model_module_version": "1.2.0",
          "state": {
            "_view_name": "LayoutView",
            "grid_template_rows": null,
            "right": null,
            "justify_content": null,
            "_view_module": "@jupyter-widgets/base",
            "overflow": null,
            "_model_module_version": "1.2.0",
            "_view_count": null,
            "flex_flow": null,
            "width": null,
            "min_width": null,
            "border": null,
            "align_items": null,
            "bottom": null,
            "_model_module": "@jupyter-widgets/base",
            "top": null,
            "grid_column": null,
            "overflow_y": null,
            "overflow_x": null,
            "grid_auto_flow": null,
            "grid_area": null,
            "grid_template_columns": null,
            "flex": null,
            "_model_name": "LayoutModel",
            "justify_items": null,
            "grid_row": null,
            "max_height": null,
            "align_content": null,
            "visibility": null,
            "align_self": null,
            "height": null,
            "min_height": null,
            "padding": null,
            "grid_auto_rows": null,
            "grid_gap": null,
            "max_width": null,
            "order": null,
            "_view_module_version": "1.2.0",
            "grid_template_areas": null,
            "object_position": null,
            "object_fit": null,
            "grid_auto_columns": null,
            "margin": null,
            "display": null,
            "left": null
          }
        },
        "0a46d886565a44bfacdf1b8d5fb26710": {
          "model_module": "@jupyter-widgets/controls",
          "model_name": "DescriptionStyleModel",
          "model_module_version": "1.5.0",
          "state": {
            "_view_name": "StyleView",
            "_model_name": "DescriptionStyleModel",
            "description_width": "",
            "_view_module": "@jupyter-widgets/base",
            "_model_module_version": "1.5.0",
            "_view_count": null,
            "_view_module_version": "1.2.0",
            "_model_module": "@jupyter-widgets/controls"
          }
        },
        "0d31ccd748f344dba3b3cd23328c8ca6": {
          "model_module": "@jupyter-widgets/base",
          "model_name": "LayoutModel",
          "model_module_version": "1.2.0",
          "state": {
            "_view_name": "LayoutView",
            "grid_template_rows": null,
            "right": null,
            "justify_content": null,
            "_view_module": "@jupyter-widgets/base",
            "overflow": null,
            "_model_module_version": "1.2.0",
            "_view_count": null,
            "flex_flow": null,
            "width": null,
            "min_width": null,
            "border": null,
            "align_items": null,
            "bottom": null,
            "_model_module": "@jupyter-widgets/base",
            "top": null,
            "grid_column": null,
            "overflow_y": null,
            "overflow_x": null,
            "grid_auto_flow": null,
            "grid_area": null,
            "grid_template_columns": null,
            "flex": null,
            "_model_name": "LayoutModel",
            "justify_items": null,
            "grid_row": null,
            "max_height": null,
            "align_content": null,
            "visibility": null,
            "align_self": null,
            "height": null,
            "min_height": null,
            "padding": null,
            "grid_auto_rows": null,
            "grid_gap": null,
            "max_width": null,
            "order": null,
            "_view_module_version": "1.2.0",
            "grid_template_areas": null,
            "object_position": null,
            "object_fit": null,
            "grid_auto_columns": null,
            "margin": null,
            "display": null,
            "left": null
          }
        }
      }
    }
  },
  "cells": [
    {
      "cell_type": "markdown",
      "metadata": {
        "id": "D6TogFPqLpOG"
      },
      "source": [
        "### Using pre-trained model\n",
        "\n",
        "Today we're going to build and fine-tune CNN based on weights pre-trained on ImageNet: the largest image classification dataset as of now.\n",
        "More about imagenet: http://image-net.org/\n",
        "Setup: classify from a set of 1000 classes."
      ]
    },
    {
      "cell_type": "code",
      "metadata": {
        "id": "A97disGJLpOJ"
      },
      "source": [
        "import requests\n",
        "\n",
        "# class labels\n",
        "LABELS_URL = 'https://raw.githubusercontent.com/anishathalye/imagenet-simple-labels/master/imagenet-simple-labels.json'\n",
        "labels = {i: c for i, c in enumerate(requests.get(LABELS_URL).json())}"
      ],
      "execution_count": null,
      "outputs": []
    },
    {
      "cell_type": "code",
      "metadata": {
        "colab": {
          "base_uri": "https://localhost:8080/"
        },
        "id": "B1YUnn4vLpOL",
        "outputId": "a17d56d4-a8e2-40dc-b75d-22f403e0a14d"
      },
      "source": [
        "print(list(labels.items())[:5])"
      ],
      "execution_count": null,
      "outputs": [
        {
          "output_type": "stream",
          "name": "stdout",
          "text": [
            "[(0, 'tench'), (1, 'goldfish'), (2, 'great white shark'), (3, 'tiger shark'), (4, 'hammerhead shark')]\n"
          ]
        }
      ]
    },
    {
      "cell_type": "markdown",
      "metadata": {
        "id": "pNpuE2dxLpOL"
      },
      "source": [
        "### TorchVision\n",
        "PyTorch has several companion libraries, one of them being [torchvision](https://github.com/pytorch/vision/tree/master/) - it contains a number of popular vision datasets, preprocessing tools and most importantly, [pre-trained models](https://github.com/pytorch/vision/tree/master/torchvision/models).\n",
        "\n",
        "For now, we're going to use torch Inception-v3 module."
      ]
    },
    {
      "cell_type": "markdown",
      "metadata": {
        "collapsed": true,
        "id": "Ahn79XbKLpOM"
      },
      "source": [
        "We're gonna use the inception-v3 network:\n",
        "![img](https://hackathonprojects.files.wordpress.com/2016/09/googlenet_diagram.png?w=650&h=192)\n",
        "\n",
        "Let's first look at the code here: [url](https://github.com/pytorch/vision/blob/master/torchvision/models/inception.py)"
      ]
    },
    {
      "cell_type": "code",
      "metadata": {
        "id": "TP499AgyLpOM"
      },
      "source": [
        "from torchvision.models.inception import inception_v3\n",
        "\n",
        "model = inception_v3(pretrained=True,      # load existing weights\n",
        "                     transform_input=True, # preprocess input image the same way as in training\n",
        "                    )\n",
        "\n",
        "model.aux_logits = False # don't predict intermediate logits (yellow layers at the bottom)\n",
        "model.train(False)"
      ],
      "execution_count": null,
      "outputs": []
    },
    {
      "cell_type": "code",
      "metadata": {
        "colab": {
          "base_uri": "https://localhost:8080/"
        },
        "id": "Ep_ljJGuLpON",
        "outputId": "5d48dfc8-24fb-4d05-9935-2864fda25442"
      },
      "source": [
        "import torch\n",
        "\n",
        "dummy_x = torch.randn(5, 3, 299, 299)\n",
        "model(dummy_x)"
      ],
      "execution_count": null,
      "outputs": [
        {
          "output_type": "stream",
          "name": "stderr",
          "text": [
            "/usr/local/lib/python3.7/dist-packages/torch/nn/functional.py:718: UserWarning: Named tensors and all their associated APIs are an experimental feature and subject to change. Please do not use them for anything important until they are released as stable. (Triggered internally at  /pytorch/c10/core/TensorImpl.h:1156.)\n",
            "  return torch.max_pool2d(input, kernel_size, stride, padding, dilation, ceil_mode)\n"
          ]
        },
        {
          "output_type": "execute_result",
          "data": {
            "text/plain": [
              "tensor([[-0.9350,  1.0038,  1.8990,  ..., -2.0757, -0.4330,  1.4766],\n",
              "        [-1.0687,  0.6818,  1.3365,  ..., -2.0965, -0.5218,  1.5230],\n",
              "        [-1.2509,  0.7810,  1.7044,  ..., -2.2858, -0.4587,  2.0063],\n",
              "        [-1.1140,  1.1118,  2.1995,  ..., -2.1986, -0.6734,  1.6114],\n",
              "        [-1.3460,  0.6346,  1.7159,  ..., -2.2466, -0.4981,  1.6590]],\n",
              "       grad_fn=<AddmmBackward>)"
            ]
          },
          "metadata": {},
          "execution_count": 4
        }
      ]
    },
    {
      "cell_type": "markdown",
      "metadata": {
        "id": "crA9pi-NLpON"
      },
      "source": [
        "### Predict class probabilities"
      ]
    },
    {
      "cell_type": "code",
      "metadata": {
        "colab": {
          "base_uri": "https://localhost:8080/"
        },
        "id": "ujg8xqodLpOO",
        "outputId": "754b73dc-b3a6-450a-cd3c-8f187b93915b"
      },
      "source": [
        "# If using Colab\n",
        "!mkdir sample_images\n",
        "!wget https://raw.githubusercontent.com/yandexdataschool/Practical_DL/sem4_spring19/week04_finetuning/sample_images/albatross.jpg -O sample_images/albatross.jpg"
      ],
      "execution_count": null,
      "outputs": [
        {
          "output_type": "stream",
          "name": "stdout",
          "text": [
            "--2021-10-16 22:47:53--  https://raw.githubusercontent.com/yandexdataschool/Practical_DL/sem4_spring19/week04_finetuning/sample_images/albatross.jpg\n",
            "Resolving raw.githubusercontent.com (raw.githubusercontent.com)... 185.199.108.133, 185.199.109.133, 185.199.110.133, ...\n",
            "Connecting to raw.githubusercontent.com (raw.githubusercontent.com)|185.199.108.133|:443... connected.\n",
            "HTTP request sent, awaiting response... 200 OK\n",
            "Length: 11607 (11K) [image/jpeg]\n",
            "Saving to: ‘sample_images/albatross.jpg’\n",
            "\n",
            "\r          sample_im   0%[                    ]       0  --.-KB/s               \rsample_images/albat 100%[===================>]  11.33K  --.-KB/s    in 0s      \n",
            "\n",
            "2021-10-16 22:47:53 (68.3 MB/s) - ‘sample_images/albatross.jpg’ saved [11607/11607]\n",
            "\n"
          ]
        }
      ]
    },
    {
      "cell_type": "code",
      "metadata": {
        "colab": {
          "base_uri": "https://localhost:8080/",
          "height": 453
        },
        "id": "MBkEPrA1LpOO",
        "outputId": "394e0fb0-e726-4d72-c918-7d5928b67215"
      },
      "source": [
        "import matplotlib.pyplot as plt\n",
        "from skimage.transform import resize\n",
        "%matplotlib inline\n",
        "\n",
        "img = resize(plt.imread('sample_images/albatross.jpg'), (299, 299))\n",
        "plt.imshow(img)\n",
        "plt.show()\n",
        "\n",
        "\n",
        "def transform_input(img):\n",
        "    return torch.as_tensor(img.reshape([1, 299, 299, 3]).transpose([0, 3, 1, 2]), dtype=torch.float32)\n",
        "\n",
        "\n",
        "def predict(img):\n",
        "    img = transform_input(img)\n",
        "    \n",
        "    probs = torch.nn.functional.softmax(model(img), dim=-1)\n",
        "    \n",
        "    probs = probs.data.numpy()\n",
        "    \n",
        "    top_ix = probs.ravel().argsort()[-1:-10:-1]\n",
        "    print ('top-10 classes are: \\n [prob : class label]')\n",
        "    for l in top_ix:\n",
        "        print ('%.4f :\\t%s' % (probs.ravel()[l], labels[l].split(',')[0]))\n",
        "        \n",
        "\n",
        "predict(img)"
      ],
      "execution_count": null,
      "outputs": [
        {
          "output_type": "display_data",
          "data": {
            "image/png": "[encoded data removed]",
            "text/plain": [
              "<Figure size 432x288 with 1 Axes>"
            ]
          },
          "metadata": {
            "needs_background": "light"
          }
        },
        {
          "output_type": "stream",
          "name": "stdout",
          "text": [
            "top-10 classes are: \n",
            " [prob : class label]\n",
            "0.9745 :\talbatross\n",
            "0.0030 :\tturnstile\n",
            "0.0005 :\tShetland Sheepdog\n",
            "0.0005 :\tllama\n",
            "0.0003 :\tcollie\n",
            "0.0003 :\tduck\n",
            "0.0003 :\thammerhead shark\n",
            "0.0003 :\tnipple\n",
            "0.0003 :\tPolaroid camera\n"
          ]
        }
      ]
    },
    {
      "cell_type": "markdown",
      "metadata": {
        "id": "k4ALS857LpOP"
      },
      "source": [
        "### Having fun with pre-trained nets"
      ]
    },
    {
      "cell_type": "code",
      "metadata": {
        "colab": {
          "base_uri": "https://localhost:8080/"
        },
        "id": "DPlOoSknLpOQ",
        "outputId": "e93b2563-80f8-495c-ba3f-9e43210f41c5"
      },
      "source": [
        "!wget http://cdn.com.do/wp-content/uploads/2017/02/Donal-Trum-Derogar.jpeg -O img.jpg"
      ],
      "execution_count": null,
      "outputs": [
        {
          "output_type": "stream",
          "name": "stdout",
          "text": [
            "--2021-10-16 22:48:01--  http://cdn.com.do/wp-content/uploads/2017/02/Donal-Trum-Derogar.jpeg\n",
            "Resolving cdn.com.do (cdn.com.do)... 104.26.9.119, 104.26.8.119, 172.67.68.26, ...\n",
            "Connecting to cdn.com.do (cdn.com.do)|104.26.9.119|:80... connected.\n",
            "HTTP request sent, awaiting response... 301 Moved Permanently\n",
            "Location: https://cdn.com.do/wp-content/uploads/2017/02/Donal-Trum-Derogar.jpeg [following]\n",
            "--2021-10-16 22:48:01--  https://cdn.com.do/wp-content/uploads/2017/02/Donal-Trum-Derogar.jpeg\n",
            "Connecting to cdn.com.do (cdn.com.do)|104.26.9.119|:443... connected.\n",
            "HTTP request sent, awaiting response... 200 OK\n",
            "Length: 48606 (47K) [image/jpeg]\n",
            "Saving to: ‘img.jpg’\n",
            "\n",
            "\rimg.jpg               0%[                    ]       0  --.-KB/s               \rimg.jpg             100%[===================>]  47.47K  --.-KB/s    in 0.01s   \n",
            "\n",
            "2021-10-16 22:48:01 (4.39 MB/s) - ‘img.jpg’ saved [48606/48606]\n",
            "\n"
          ]
        }
      ]
    },
    {
      "cell_type": "code",
      "metadata": {
        "colab": {
          "base_uri": "https://localhost:8080/",
          "height": 453
        },
        "id": "iZoxBU6vLpOR",
        "outputId": "4535c815-61a6-432e-9c0b-205de6029246"
      },
      "source": [
        "img = resize(plt.imread('img.jpg'), (299, 299))\n",
        "plt.imshow(img)\n",
        "plt.show()\n",
        "\n",
        "predict(img)"
      ],
      "execution_count": null,
      "outputs": [
        {
          "output_type": "display_data",
          "data": {
            "image/png": "[encoded data removed]",
            "text/plain": [
              "<Figure size 432x288 with 1 Axes>"
            ]
          },
          "metadata": {
            "needs_background": "light"
          }
        },
        {
          "output_type": "stream",
          "name": "stdout",
          "text": [
            "top-10 classes are: \n",
            " [prob : class label]\n",
            "0.6924 :\tsuit\n",
            "0.0912 :\tWindsor tie\n",
            "0.0627 :\tbridegroom\n",
            "0.0045 :\toboe\n",
            "0.0040 :\tacademic gown\n",
            "0.0034 :\tslip-on shoe\n",
            "0.0032 :\twig\n",
            "0.0028 :\tAfghan Hound\n",
            "0.0027 :\tbow tie\n"
          ]
        }
      ]
    },
    {
      "cell_type": "markdown",
      "metadata": {
        "id": "cbQEWnD8LpOR"
      },
      "source": [
        "# Grand-quest: Dogs Vs Cats\n",
        "* original competition\n",
        "* https://www.kaggle.com/c/dogs-vs-cats\n",
        "* 25k JPEG images of various size, 2 classes (guess what)\n",
        "\n",
        "### Your main objective\n",
        "* In this seminar your goal is to fine-tune a pre-trained model to distinguish between the two rivaling animals\n",
        "* The first step is to just reuse some network layer as features"
      ]
    },
    {
      "cell_type": "code",
      "metadata": {
        "id": "ndrbYy4jLpOS",
        "colab": {
          "base_uri": "https://localhost:8080/"
        },
        "outputId": "4da71a65-7266-4e5b-c300-441800492f8f"
      },
      "source": [
        "!wget -nc https://www.dropbox.com/s/ae1lq6dsfanse76/dogs_vs_cats.train.zip?dl=1 -O data.zip\n",
        "!unzip -n data.zip"
      ],
      "execution_count": null,
      "outputs": [
        {
          "output_type": "stream",
          "name": "stdout",
          "text": [
            "--2021-10-16 22:48:05--  https://www.dropbox.com/s/ae1lq6dsfanse76/dogs_vs_cats.train.zip?dl=1\n",
            "Resolving www.dropbox.com (www.dropbox.com)... 162.125.3.18, 2620:100:601b:18::a27d:812\n",
            "Connecting to www.dropbox.com (www.dropbox.com)|162.125.3.18|:443... connected.\n",
            "HTTP request sent, awaiting response... 301 Moved Permanently\n",
            "Location: /s/dl/ae1lq6dsfanse76/dogs_vs_cats.train.zip [following]\n",
            "--2021-10-16 22:48:05--  https://www.dropbox.com/s/dl/ae1lq6dsfanse76/dogs_vs_cats.train.zip\n",
            "Reusing existing connection to www.dropbox.com:443.\n",
            "HTTP request sent, awaiting response... 404 Not Found\n",
            "2021-10-16 22:48:05 ERROR 404: Not Found.\n",
            "\n",
            "Archive:  data.zip\n",
            "  End-of-central-directory signature not found.  Either this file is not\n",
            "  a zipfile, or it constitutes one disk of a multi-part archive.  In the\n",
            "  latter case the central directory and zipfile comment will be found on\n",
            "  the last disk(s) of this archive.\n",
            "unzip:  cannot find zipfile directory in one of data.zip or\n",
            "        data.zip.zip, and cannot find data.zip.ZIP, period.\n"
          ]
        }
      ]
    },
    {
      "cell_type": "code",
      "metadata": {
        "colab": {
          "base_uri": "https://localhost:8080/"
        },
        "id": "KPIbLe2YM4XL",
        "outputId": "0cb15956-6c2d-4d84-ed5e-6ed0092d1f7d"
      },
      "source": [
        "# dropbox link dose't work, read from kaggle and google drive\n",
        "from google.colab import drive\n",
        "drive.mount('/content/drive')"
      ],
      "execution_count": null,
      "outputs": [
        {
          "output_type": "stream",
          "name": "stdout",
          "text": [
            "Drive already mounted at /content/drive; to attempt to forcibly remount, call drive.mount(\"/content/drive\", force_remount=True).\n"
          ]
        }
      ]
    },
    {
      "cell_type": "code",
      "metadata": {
        "id": "e3KzNbQeNtzO"
      },
      "source": [
        "!cp /content/drive/MyDrive/DL_HW4/train.zip ./\n",
        "!unzip train.zip"
      ],
      "execution_count": null,
      "outputs": []
    },
    {
      "cell_type": "markdown",
      "metadata": {
        "id": "zFhNfqEzLpOS"
      },
      "source": [
        "### How to get features\n",
        "During good old days in Torch7 you could access any intermediate output from the sequential model. Nowadays it's a bit more difficult though it's not Tensorflow where you need to compile another model for that. Here we're going to redefine the last layer... yes, to do nothing."
      ]
    },
    {
      "cell_type": "code",
      "metadata": {
        "id": "NVNdVmYFLpOT"
      },
      "source": [
        "from copy import deepcopy  # in case you still need original model\n",
        "\n",
        "embedding = deepcopy(model)\n",
        "\n",
        "class Identity(torch.nn.Module):\n",
        "\n",
        "    def __init__(self):\n",
        "        super(Identity, self).__init__()\n",
        "\n",
        "    def forward(self, x):\n",
        "        #<YOUR CODE>\n",
        "        return x\n",
        "        \n",
        "    \n",
        "# redefine the last layer to be Identity\n",
        "#<YOUR CODE>\n",
        "embedding.fc = Identity()\n",
        "\n",
        "assert embedding(transform_input(img)).data.numpy().shape == (1, 2048), \"your output for single image should have shape (1, 2048)\""
      ],
      "execution_count": null,
      "outputs": []
    },
    {
      "cell_type": "markdown",
      "metadata": {
        "id": "hK7YDo7oLpOT"
      },
      "source": [
        "# for starters\n",
        "* Train sklearn model, evaluate validation accuracy (should be >80%"
      ]
    },
    {
      "cell_type": "code",
      "metadata": {
        "id": "PLKlxYGPLpOU"
      },
      "source": [
        "#extract features from images\n",
        "from tqdm import tqdm\n",
        "import PIL.Image as Image\n",
        "from imageio import imread\n",
        "import os\n",
        "import numpy as np\n",
        "from tqdm import trange\n",
        "\n",
        "X = []\n",
        "Y = []\n",
        "\n",
        "batch_size = 50 #<YOUR VALUE>\n",
        "imgs = np.zeros([batch_size, 299, 299, 3])\n",
        "batch_index = 0\n",
        "\n",
        "for fname in tqdm(os.listdir('train')):    \n",
        "    y = fname.startswith(\"cat\")    \n",
        "    Y.append(y)\n",
        "    \n",
        "    img = imread(os.path.join(\"train\", fname))\n",
        "    \n",
        "    img = np.array(Image.fromarray(img).resize((299, 299))) / 255.\n",
        "    imgs[batch_index] = img\n",
        "    \n",
        "    if batch_index == batch_size - 1:\n",
        "        input_tensor = torch.as_tensor(imgs.transpose([0,3,1,2]), dtype=torch.float32)\n",
        "    \n",
        "        # use your embedding model to produce feature vector\n",
        "        with  torch.no_grad():\n",
        "            #vectors = []\n",
        "            for i in trange(len(input_tensor)):\n",
        "                #vectors.append(embedding(input_tensor[i : i+1]))\n",
        "                features =  embedding(input_tensor[i : i+1])\n",
        "                X.append(features)        \n",
        "        batch_index = 0\n",
        "        continue\n",
        "        \n",
        "    batch_index += 1"
      ],
      "execution_count": null,
      "outputs": []
    },
    {
      "cell_type": "code",
      "metadata": {
        "colab": {
          "base_uri": "https://localhost:8080/"
        },
        "id": "BMcqPcEIxaDd",
        "outputId": "c4543d4c-8198-4650-ee86-5c40cde332f4"
      },
      "source": [
        "X = np.concatenate(X) #stack all [1xfeatures] matrices into one. \n",
        "assert X.ndim == 2\n",
        "#WARNING! the concatenate works for [1xN] matrices. If you have other format, stack them yourself.\n",
        "\n",
        "#crop if we ended prematurely\n",
        "Y = np.array(Y[:len(X)])\n",
        "\n",
        "print(X.shape, Y.shape)"
      ],
      "execution_count": null,
      "outputs": [
        {
          "name": "stdout",
          "output_type": "stream",
          "text": [
            "(2560, 2048) (2560,)\n"
          ]
        }
      ]
    },
    {
      "cell_type": "code",
      "metadata": {
        "colab": {
          "base_uri": "https://localhost:8080/"
        },
        "id": "XRRwAYYHLpOV",
        "outputId": "adb52205-c4cc-4c0f-8364-6c98022e6fd2"
      },
      "source": [
        "#<split data here or use cross-validation>\n",
        "from sklearn.model_selection import train_test_split\n",
        "x_train, x_test, y_train, y_test = train_test_split(X, Y, test_size=0.2, random_state=0)\n",
        "print(X.shape)\n",
        "print(x_train.shape)\n",
        "print(x_test.shape)"
      ],
      "execution_count": null,
      "outputs": [
        {
          "name": "stdout",
          "output_type": "stream",
          "text": [
            "(2560, 2048)\n",
            "(2048, 2048)\n",
            "(512, 2048)\n"
          ]
        }
      ]
    },
    {
      "cell_type": "markdown",
      "metadata": {
        "id": "gIgB4Hc1LpOW"
      },
      "source": [
        "__load our dakka__\n",
        "![img](https://s-media-cache-ak0.pinimg.com/564x/80/a1/81/80a1817a928744a934a7d32e7c03b242.jpg)"
      ]
    },
    {
      "cell_type": "code",
      "metadata": {
        "id": "3m21wLFXLpOW"
      },
      "source": [
        "from sklearn.ensemble import RandomForestClassifier,ExtraTreesClassifier,GradientBoostingClassifier,AdaBoostClassifier\n",
        "from sklearn.linear_model import LogisticRegression, RidgeClassifier\n",
        "from sklearn.svm import SVC\n",
        "from sklearn.tree import DecisionTreeClassifier\n",
        "\n",
        "from sklearn import metrics"
      ],
      "execution_count": null,
      "outputs": []
    },
    {
      "cell_type": "code",
      "metadata": {
        "colab": {
          "base_uri": "https://localhost:8080/"
        },
        "id": "v4XJ54g9Vo8O",
        "outputId": "c916a7d2-f87b-4cda-f3bb-21a86ef30486"
      },
      "source": [
        "model = RandomForestClassifier()\n",
        "model = model.fit(x_train, y_train)\n",
        "metrics.accuracy_score(y_test, model.predict(x_test))"
      ],
      "execution_count": null,
      "outputs": [
        {
          "data": {
            "text/plain": [
              "0.97265625"
            ]
          },
          "execution_count": 66,
          "metadata": {},
          "output_type": "execute_result"
        }
      ]
    },
    {
      "cell_type": "code",
      "metadata": {
        "colab": {
          "base_uri": "https://localhost:8080/"
        },
        "id": "zkXeOeiebIr2",
        "outputId": "deb60d6c-3092-4c5e-ac85-3b193665f470"
      },
      "source": [
        "model = ExtraTreesClassifier()\n",
        "model = model.fit(x_train, y_train)\n",
        "metrics.accuracy_score(y_test, model.predict(x_test))"
      ],
      "execution_count": null,
      "outputs": [
        {
          "data": {
            "text/plain": [
              "0.970703125"
            ]
          },
          "execution_count": 67,
          "metadata": {},
          "output_type": "execute_result"
        }
      ]
    },
    {
      "cell_type": "code",
      "metadata": {
        "colab": {
          "base_uri": "https://localhost:8080/"
        },
        "id": "-lcZnGEFbMFA",
        "outputId": "a7c16a46-43c6-4794-86cb-eaaa75e4f158"
      },
      "source": [
        "model = GradientBoostingClassifier()\n",
        "model = model.fit(x_train, y_train)\n",
        "metrics.accuracy_score(y_test, model.predict(x_test))"
      ],
      "execution_count": null,
      "outputs": [
        {
          "data": {
            "text/plain": [
              "0.984375"
            ]
          },
          "execution_count": 68,
          "metadata": {},
          "output_type": "execute_result"
        }
      ]
    },
    {
      "cell_type": "code",
      "metadata": {
        "colab": {
          "base_uri": "https://localhost:8080/"
        },
        "id": "Pn6SKDSEbQns",
        "outputId": "799bb25d-5852-49f6-b79e-7945d58ce1a0"
      },
      "source": [
        "model = AdaBoostClassifier()\n",
        "model = model.fit(x_train, y_train)\n",
        "metrics.accuracy_score(y_test, model.predict(x_test))"
      ],
      "execution_count": null,
      "outputs": [
        {
          "data": {
            "text/plain": [
              "0.970703125"
            ]
          },
          "execution_count": 69,
          "metadata": {},
          "output_type": "execute_result"
        }
      ]
    },
    {
      "cell_type": "code",
      "metadata": {
        "colab": {
          "base_uri": "https://localhost:8080/"
        },
        "id": "WTAF5Ur1bYVK",
        "outputId": "2e3fb309-32fe-4f05-e0da-670aac7b82ea"
      },
      "source": [
        "model = LogisticRegression()\n",
        "model = model.fit(x_train, y_train)\n",
        "metrics.accuracy_score(y_test, model.predict(x_test))"
      ],
      "execution_count": null,
      "outputs": [
        {
          "name": "stderr",
          "output_type": "stream",
          "text": [
            "/usr/local/lib/python3.7/dist-packages/sklearn/linear_model/_logistic.py:940: ConvergenceWarning: lbfgs failed to converge (status=1):\n",
            "STOP: TOTAL NO. of ITERATIONS REACHED LIMIT.\n",
            "\n",
            "Increase the number of iterations (max_iter) or scale the data as shown in:\n",
            "    https://scikit-learn.org/stable/modules/preprocessing.html\n",
            "Please also refer to the documentation for alternative solver options:\n",
            "    https://scikit-learn.org/stable/modules/linear_model.html#logistic-regression\n",
            "  extra_warning_msg=_LOGISTIC_SOLVER_CONVERGENCE_MSG)\n"
          ]
        },
        {
          "data": {
            "text/plain": [
              "0.982421875"
            ]
          },
          "execution_count": 71,
          "metadata": {},
          "output_type": "execute_result"
        }
      ]
    },
    {
      "cell_type": "code",
      "metadata": {
        "colab": {
          "base_uri": "https://localhost:8080/"
        },
        "id": "87QqLxWMbZKa",
        "outputId": "5479ee27-d2f8-4073-9a9e-4ce3a1aee26b"
      },
      "source": [
        "model = RidgeClassifier()\n",
        "model = model.fit(x_train, y_train)\n",
        "metrics.accuracy_score(y_test, model.predict(x_test))"
      ],
      "execution_count": null,
      "outputs": [
        {
          "data": {
            "text/plain": [
              "0.9765625"
            ]
          },
          "execution_count": 72,
          "metadata": {},
          "output_type": "execute_result"
        }
      ]
    },
    {
      "cell_type": "code",
      "metadata": {
        "colab": {
          "base_uri": "https://localhost:8080/"
        },
        "id": "nFOkrDoqbZSP",
        "outputId": "8f25f6c0-c75c-4977-ac1f-ab5708481b58"
      },
      "source": [
        "model = SVC()\n",
        "model = model.fit(x_train, y_train)\n",
        "metrics.accuracy_score(y_test, model.predict(x_test))"
      ],
      "execution_count": null,
      "outputs": [
        {
          "data": {
            "text/plain": [
              "0.984375"
            ]
          },
          "execution_count": 73,
          "metadata": {},
          "output_type": "execute_result"
        }
      ]
    },
    {
      "cell_type": "code",
      "metadata": {
        "colab": {
          "base_uri": "https://localhost:8080/"
        },
        "id": "67_FK2jLbuFl",
        "outputId": "bb2615f6-7dc9-420f-b828-45748e7e8c08"
      },
      "source": [
        "model = DecisionTreeClassifier()\n",
        "model = model.fit(x_train, y_train)\n",
        "metrics.accuracy_score(y_test, model.predict(x_test))"
      ],
      "execution_count": null,
      "outputs": [
        {
          "data": {
            "text/plain": [
              "0.953125"
            ]
          },
          "execution_count": 74,
          "metadata": {},
          "output_type": "execute_result"
        }
      ]
    },
    {
      "cell_type": "markdown",
      "metadata": {
        "id": "1Ph1qESQLpOX"
      },
      "source": [
        "# Main quest\n",
        "\n",
        "* Get the score improved!\n",
        "* You have to reach __at least 95%__ on the test set. More = better.\n",
        "\n",
        "No methods are illegal: ensembling, data augmentation, NN hacks. \n",
        "Just don't let test data slip into training.\n",
        "\n",
        "\n",
        "### Split the raw image data\n",
        "  * please do train/validation/test instead of just train/test\n",
        "  * reasonable but not optimal split is 20k/2.5k/2.5k or 15k/5k/5k\n",
        "\n",
        "### Build a few layers on top of chosen \"neck\" layers.\n",
        "  * a good idea is to just stack more layers inside the same network\n",
        "  * alternative: stack on top of get_output\n",
        "\n",
        "### Train the newly added layers for some iterations\n",
        "  * you can selectively train some weights by sending the correct parameters in the optimizer\n",
        "      * `opt = torch.optim.Adam([head_only.parameters()])``\n",
        "  * it's cruicial to monitor the network performance at this and following steps\n",
        "\n",
        "### Fine-tune the network body\n",
        "  * probably a good idea to SAVE your new network weights now 'cuz it's easy to mess things up.\n",
        "  * Moreover, saving weights periodically is a no-nonsense idea\n",
        "  * even more cruicial to monitor validation performance\n",
        "  * main network body may need a separate, much lower learning rate"
      ]
    },
    {
      "cell_type": "code",
      "metadata": {
        "id": "4c8ecOFpIwVR"
      },
      "source": [
        "import time\n",
        "from os import listdir\n",
        "from os.path import isfile, join\n",
        "import shutil\n",
        "import numpy as np\n",
        "from torchvision import transforms\n",
        "from torchvision import datasets\n",
        "import torch.nn.functional as F\n",
        "import torchvision.models\n",
        "import torch, torch.nn as nn\n",
        "from tqdm import tqdm"
      ],
      "execution_count": null,
      "outputs": []
    },
    {
      "cell_type": "code",
      "metadata": {
        "id": "gXVB9H-bInsd"
      },
      "source": [
        "!mkdir validation\n",
        "!mkdir test\n",
        "files = [f for f in listdir('./train') if(isfile(join('./train', f)) and f.endswith('.jpg'))]  \n",
        "# train to validation\n",
        "for f in np.random.choice(files, 5000, replace=False):\n",
        "    shutil.move(f'./train/{f}', f'./validation/{f}')       \n",
        "    files.remove(f)\n",
        "# train to test\n",
        "for f in np.random.choice(files, 5000, replace=False):\n",
        "    shutil.move(f'./train/{f}', f'./test/{f}')"
      ],
      "execution_count": null,
      "outputs": []
    },
    {
      "cell_type": "code",
      "metadata": {
        "colab": {
          "base_uri": "https://localhost:8080/"
        },
        "id": "WMsAO2QRMLri",
        "outputId": "24e3247b-0c51-4b55-9f0d-a55c24977fa7"
      },
      "source": [
        "print(f\"train size is: {len([f for f in listdir('./train') if f.endswith('.jpg')])}\")\n",
        "print(f\"validation size is: {len([f for f in listdir('./validation') if f.endswith('.jpg')])}\")\n",
        "print(f\"test size is: {len([f for f in listdir('./test') if f.endswith('.jpg')])}\")"
      ],
      "execution_count": null,
      "outputs": [
        {
          "output_type": "stream",
          "name": "stdout",
          "text": [
            "train size is: 15000\n",
            "validation size is: 5000\n",
            "test size is: 5000\n"
          ]
        }
      ]
    },
    {
      "cell_type": "code",
      "metadata": {
        "id": "9ZN_vVCjQo0e"
      },
      "source": [
        "!mkdir ./train/cat; mv ./train/cat*.jpg ./train/cat/\n",
        "!mkdir ./train/dog; mv ./train/dog*.jpg ./train/dog/\n",
        "!mkdir ./validation/cat; mv ./validation/cat*.jpg ./validation/cat/\n",
        "!mkdir ./validation/dog; mv ./validation/dog*.jpg ./validation/dog/\n",
        "!mkdir ./test/cat; mv ./test/cat*.jpg ./test/cat/\n",
        "!mkdir ./test/dog; mv ./test/dog*.jpg ./test/dog/"
      ],
      "execution_count": null,
      "outputs": []
    },
    {
      "cell_type": "code",
      "metadata": {
        "id": "1sZxznWDuZrM"
      },
      "source": [
        "means = np.array((0.4914, 0.4822, 0.4465))\n",
        "stds = np.array((0.2023, 0.1994, 0.2010))\n",
        "\n",
        "transform_augment = transforms.Compose([\n",
        "#    transforms.RandomCrop(32, padding=4),\n",
        "#    transforms.RandomRotation([-30, 30]),\n",
        "#    transforms.RandomHorizontalFlip(),\n",
        "    transforms.Resize((224, 224)),\n",
        "    transforms.ToTensor(),\n",
        "    transforms.Normalize(means, stds),\n",
        "])\n",
        "\n",
        "transform_test = transforms.Compose([\n",
        "    transforms.Resize((224, 224)),\n",
        "    transforms.ToTensor(),\n",
        "    transforms.Normalize(means, stds),\n",
        "])"
      ],
      "execution_count": null,
      "outputs": []
    },
    {
      "cell_type": "code",
      "metadata": {
        "id": "DL1FV10UuiNq"
      },
      "source": [
        "train_loader = datasets.ImageFolder(root=\"./train/\",transform = transform_augment)\n",
        "validation_loader = datasets.ImageFolder(root=\"./validation/\",transform = transform_test)\n",
        "test_loader = datasets.ImageFolder(root=\"./test/\",transform = transform_test)"
      ],
      "execution_count": null,
      "outputs": []
    },
    {
      "cell_type": "code",
      "metadata": {
        "id": "GU9gj882wWuE"
      },
      "source": [
        "train_batch_gen = torch.utils.data.DataLoader(train_loader,\n",
        "                                              batch_size=124,\n",
        "                                              shuffle=True,\n",
        "                                              num_workers=1)\n",
        "validation_batch_gen = torch.utils.data.DataLoader(validation_loader,\n",
        "                                              batch_size=124,\n",
        "                                              shuffle=True,\n",
        "                                              num_workers=1)\n",
        "test_batch_gen = torch.utils.data.DataLoader(test_loader,\n",
        "                                              batch_size=124,\n",
        "                                              shuffle=True,\n",
        "                                              num_workers=1)"
      ],
      "execution_count": null,
      "outputs": []
    },
    {
      "cell_type": "code",
      "metadata": {
        "id": "6G8PVpmeLkZD"
      },
      "source": [
        "device = torch.device(\"cuda:0\")"
      ],
      "execution_count": null,
      "outputs": []
    },
    {
      "cell_type": "code",
      "metadata": {
        "id": "4nOhNLwnw-5Y",
        "colab": {
          "base_uri": "https://localhost:8080/",
          "height": 65,
          "referenced_widgets": [
            "1cdbafd8f4a34821992f1a715bebf568",
            "682ed35f296b439a9a24effec4360de3",
            "272b0f967fb249f5b1cadfd65499bba5",
            "a83383a00f5d46289a17132f67ad6ecd",
            "0f798390c54e46b89b3e82f57d812b2e",
            "6cedcefffc574f3e86f0c0f3a3826610",
            "e96cd743595e4a52996a1729f7dcd748",
            "da0428392a244909afdb66d918fd1f9c",
            "15985b46ea3d4c87ac788b24b274f540",
            "0a46d886565a44bfacdf1b8d5fb26710",
            "0d31ccd748f344dba3b3cd23328c8ca6"
          ]
        },
        "outputId": "4ff68e37-67ea-40b7-a6c0-5b1ab4fcfbcd"
      },
      "source": [
        "model = torchvision.models.resnet18(pretrained = True)\n",
        "\n",
        "num_features = model.fc.in_features\n",
        "model.fc = nn.Linear(num_features, 2)\n",
        "\n",
        "model = model.to(device)\n",
        "\n",
        "opt = torch.optim.Adam(model.parameters(), lr=0.0001)\n",
        "\n",
        "train_loss = []\n",
        "val_loss = []\n",
        "val_accuracy = []"
      ],
      "execution_count": null,
      "outputs": [
        {
          "output_type": "stream",
          "name": "stderr",
          "text": [
            "Downloading: \"https://download.pytorch.org/models/resnet18-f37072fd.pth\" to /root/.cache/torch/hub/checkpoints/resnet18-f37072fd.pth\n"
          ]
        },
        {
          "output_type": "display_data",
          "data": {
            "application/vnd.jupyter.widget-view+json": {
              "model_id": "1cdbafd8f4a34821992f1a715bebf568",
              "version_minor": 0,
              "version_major": 2
            },
            "text/plain": [
              "  0%|          | 0.00/44.7M [00:00<?, ?B/s]"
            ]
          },
          "metadata": {}
        }
      ]
    },
    {
      "cell_type": "code",
      "metadata": {
        "id": "1YttBKsIyoDE"
      },
      "source": [
        "def compute_loss(X_batch, y_batch):\n",
        "    X_batch = torch.as_tensor(X_batch, dtype=torch.float32)\n",
        "    y_batch = torch.as_tensor(y_batch, dtype=torch.int64)\n",
        "    logits = model(X_batch)\n",
        "    return F.cross_entropy(logits, y_batch).mean()"
      ],
      "execution_count": null,
      "outputs": []
    },
    {
      "cell_type": "code",
      "metadata": {
        "colab": {
          "base_uri": "https://localhost:8080/"
        },
        "id": "8PYlyCZkO7B3",
        "outputId": "b6c5a5d2-9167-4c31-f20e-4e1a8bac0699"
      },
      "source": [
        "num_epochs = 1\n",
        "batch_size = 124\n",
        "\n",
        "for epoch in range(num_epochs):\n",
        "    # In each epoch, we do a full pass over the training data:\n",
        "    start_time = time.time()\n",
        "    model.train(True) # enable dropout / batch_norm training behavior\n",
        "    bach_counter = 0\n",
        "    for (x_batch, y_batch) in tqdm(train_batch_gen):\n",
        "        # train on batch\n",
        "\n",
        "        x_batch = x_batch.to(device)\n",
        "        y_batch = y_batch.to(device)\n",
        "\n",
        "        loss = compute_loss(x_batch, y_batch)\n",
        "        loss.backward()\n",
        "        opt.step()\n",
        "        opt.zero_grad()\n",
        "        train_loss.append(loss.data.cpu().numpy())\n",
        "        bach_counter += 1\n",
        "\n",
        "    # Validation\n",
        "    model.train(False) # disable dropout / use averages for batch_norm\n",
        "    for (x_batch, y_batch) in tqdm(validation_batch_gen):\n",
        "        x_batch = x_batch.to(device)\n",
        "        y_batch = y_batch.to(device)\n",
        "\n",
        "        logits = model(torch.as_tensor(x_batch, dtype=torch.float32))\n",
        "        loss = compute_loss(x_batch, y_batch)\n",
        "\n",
        "        y_pred = logits.max(1)[1].data.cpu().numpy()\n",
        "        val_loss.append(loss.data.cpu().numpy())\n",
        "        val_accuracy.append(np.mean(y_batch.cpu().numpy() == y_pred))\n"
      ],
      "execution_count": null,
      "outputs": [
        {
          "output_type": "stream",
          "name": "stderr",
          "text": [
            "100%|██████████| 121/121 [02:01<00:00,  1.00s/it]\n",
            "100%|██████████| 41/41 [00:35<00:00,  1.14it/s]\n"
          ]
        }
      ]
    },
    {
      "cell_type": "code",
      "metadata": {
        "colab": {
          "base_uri": "https://localhost:8080/"
        },
        "id": "mb8qdE_hRFMc",
        "outputId": "e0f3eec2-471a-4d28-e022-974db8837f59"
      },
      "source": [
        "print(\"validation accuracy:\\t\\t{:.2f} %\".format(np.mean(val_accuracy) * 100))"
      ],
      "execution_count": null,
      "outputs": [
        {
          "output_type": "stream",
          "name": "stdout",
          "text": [
            "validation accuracy:\t\t98.78 %\n"
          ]
        }
      ]
    },
    {
      "cell_type": "code",
      "metadata": {
        "colab": {
          "base_uri": "https://localhost:8080/"
        },
        "id": "CwxsUzT9zbg_",
        "outputId": "7c65719c-15b1-43b3-a92e-11a4ab9b92d0"
      },
      "source": [
        "model.train(False) # disable dropout / use averages for batch_norm\n",
        "test_batch_acc = []\n",
        "for (x_batch, y_batch) in tqdm(test_batch_gen):\n",
        "    x_batch = x_batch.to(device)\n",
        "    y_batch = y_batch.to(device)\n",
        "\n",
        "    logits = model(torch.as_tensor(x_batch, dtype=torch.float32))\n",
        "    y_pred = logits.max(1)[1].data.cpu().numpy()\n",
        "    test_batch_acc.append(np.mean(y_batch.cpu().numpy() == y_pred))\n",
        "\n",
        "test_accuracy = np.mean(test_batch_acc)    \n",
        "print(\"test accuracy:\\t\\t{:.2f} %\".format(test_accuracy * 100))"
      ],
      "execution_count": null,
      "outputs": [
        {
          "output_type": "stream",
          "name": "stderr",
          "text": [
            "100%|██████████| 41/41 [00:32<00:00,  1.27it/s]"
          ]
        },
        {
          "output_type": "stream",
          "name": "stdout",
          "text": [
            "test accuracy:\t\t98.52 %\n"
          ]
        },
        {
          "output_type": "stream",
          "name": "stderr",
          "text": [
            "\n"
          ]
        }
      ]
    },
    {
      "cell_type": "markdown",
      "metadata": {
        "id": "A03JfXH8LpOX"
      },
      "source": [
        "# Bonus: #deepdream\n",
        "\n",
        "https://twitter.com/search?q=%23deepdream&src=typd\n",
        "\n",
        "Code is heavily based on https://github.com/thesemicolonguy/deep-dream-pytorch\n",
        "\n",
        "Original blogpost where more ideas can be taken from: https://research.googleblog.com/2015/06/inceptionism-going-deeper-into-neural.html"
      ]
    },
    {
      "cell_type": "code",
      "metadata": {
        "id": "81IBIKloLpOY"
      },
      "source": [
        "from PIL import Image, ImageFilter, ImageChops\n",
        "from torchvision import transforms\n",
        "import numpy as np"
      ],
      "execution_count": null,
      "outputs": []
    },
    {
      "cell_type": "code",
      "metadata": {
        "id": "xLsQRNcGLpOY"
      },
      "source": [
        "modulelist = list(model.children())"
      ],
      "execution_count": null,
      "outputs": []
    },
    {
      "cell_type": "code",
      "metadata": {
        "id": "IU_hj7J9LpOY"
      },
      "source": [
        "preprocess = transforms.Compose([\n",
        "#    transforms.Resize((299, 299)),  # do we really need this now?\n",
        "    transforms.ToTensor()#,\n",
        "    ])\n",
        "\n",
        "\n",
        "def dd_helper(image, layer, iterations, lr):\n",
        "    input_var = torch.as_tensor(preprocess(image).unsqueeze(0), requires_grad=True, dtype=torch.float32)\n",
        "    model.zero_grad()\n",
        "    for i in range(iterations):\n",
        "        out = input_var\n",
        "        for j in range(layer):\n",
        "            out = modulelist[j](out)\n",
        "        loss = out.norm()\n",
        "        loss.backward()\n",
        "        input_var.data = input_var.data + lr * input_var.grad.data\n",
        "    \n",
        "    input_im = input_var.data.squeeze()\n",
        "    input_im.transpose_(0, 1)\n",
        "    input_im.transpose_(1, 2)\n",
        "    input_im = np.clip(input_im, 0, 1)\n",
        "    im = Image.fromarray(np.uint8(input_im * 255))\n",
        "    return im"
      ],
      "execution_count": null,
      "outputs": []
    },
    {
      "cell_type": "code",
      "metadata": {
        "id": "D1TP-kTgLpOZ"
      },
      "source": [
        "def deep_dream(image, layer, iterations, lr, octave_scale, num_octaves):\n",
        "    if num_octaves>0:\n",
        "        image1 = image.filter(ImageFilter.GaussianBlur(2))\n",
        "        if (image1.size[0] / octave_scale < 1 or image1.size[1] / octave_scale < 1):\n",
        "            size = image1.size\n",
        "        else:\n",
        "            size = (int(image1.size[0] / octave_scale), int(image1.size[1] / octave_scale))\n",
        "            \n",
        "        image1 = image1.resize(size, Image.ANTIALIAS)\n",
        "        image1 = deep_dream(image1, layer, iterations, lr, octave_scale, num_octaves-1)\n",
        "        size = (image.size[0], image.size[1])\n",
        "        image1 = image1.resize(size, Image.ANTIALIAS)\n",
        "        image = ImageChops.blend(image, image1, 0.6)\n",
        "    print(\"-------------- Recursive level: \", num_octaves, '--------------')\n",
        "    img_result = dd_helper(image, layer, iterations, lr)\n",
        "    img_result = img_result.resize(image.size)\n",
        "    plt.imshow(img_result)\n",
        "    return img_result"
      ],
      "execution_count": null,
      "outputs": []
    },
    {
      "cell_type": "code",
      "metadata": {
        "id": "akJKLZrGLpOZ"
      },
      "source": [
        "img = Image.fromarray(plt.imread('img.jpg'))\n",
        "img"
      ],
      "execution_count": null,
      "outputs": []
    },
    {
      "cell_type": "code",
      "metadata": {
        "id": "OVByyiBVLpOa"
      },
      "source": [
        "output = deep_dream(img, 5, 5, 0.3, 2, 20)"
      ],
      "execution_count": null,
      "outputs": []
    },
    {
      "cell_type": "code",
      "metadata": {
        "id": "AzXW04LPLpOa"
      },
      "source": [
        "output = deep_dream(img, 12, 5, 0.2, 2, 1)"
      ],
      "execution_count": null,
      "outputs": []
    },
    {
      "cell_type": "code",
      "metadata": {
        "id": "dpEUXrVwLpOa"
      },
      "source": [
        "#can you implement one class probability optimization to make model dream about bananas\n",
        "<YOUR CODE>"
      ],
      "execution_count": null,
      "outputs": []
    },
    {
      "cell_type": "markdown",
      "metadata": {
        "id": "TcVO2pcGLpOb"
      },
      "source": [
        "# Bonus 2: Adversarial Attack\n",
        "\n",
        "Original PyTorch tutorial is [here](https://pytorch.org/tutorials/beginner/fgsm_tutorial.html)"
      ]
    },
    {
      "cell_type": "code",
      "metadata": {
        "id": "6MP7X1okLpOb"
      },
      "source": [
        "# Change the Deep Dream step function\n",
        "# to make it doing adversarial example from original image\n",
        "\n",
        "\n",
        "def dd_helper_modified(image, layer, iterations, lr):\n",
        "    input_var = torch.as_tensor(preprocess(image).unsqueeze(0), requires_grad=True, dtype=torch.float32)\n",
        "    model.zero_grad()\n",
        "    for i in range(iterations):\n",
        "        out = input_var\n",
        "        for j in range(layer):  # maybe change this\n",
        "            out = modulelist[j](out)\n",
        "        loss = out.norm()\n",
        "        loss.backward()\n",
        "        input_var.data = input_var.data + lr * input_var.grad.data # and probably this\n",
        "    input_im = input_var.data.squeeze()\n",
        "    input_im.transpose_(0, 1)\n",
        "    input_im.transpose_(1, 2)\n",
        "    input_im = np.clip(input_im, 0, 1)\n",
        "    im = Image.fromarray(np.uint8(input_im * 255))\n",
        "    return im"
      ],
      "execution_count": null,
      "outputs": []
    },
    {
      "cell_type": "code",
      "metadata": {
        "id": "dobiFaM9LpOb"
      },
      "source": [
        "img = Image.fromarray(plt.imread('img.jpg'))\n",
        "img_adv = dd_helper(img, ?, ?, ?)\n",
        "img_adv"
      ],
      "execution_count": null,
      "outputs": []
    },
    {
      "cell_type": "code",
      "metadata": {
        "id": "W9Zeypd1LpOc"
      },
      "source": [
        "predict(resize(np.asarray(img_adv), (299, 299)))"
      ],
      "execution_count": null,
      "outputs": []
    }
  ]
}